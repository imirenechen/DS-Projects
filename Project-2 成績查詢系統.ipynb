{
 "cells": [
  {
   "cell_type": "markdown",
   "id": "320aca8e",
   "metadata": {},
   "source": [
    "## 成績查詢系統"
   ]
  },
  {
   "cell_type": "markdown",
   "id": "medical-server",
   "metadata": {},
   "source": [
    "### 創建資料表"
   ]
  },
  {
   "cell_type": "code",
   "execution_count": 1,
   "id": "african-desert",
   "metadata": {},
   "outputs": [],
   "source": [
    "import MySQLdb\n",
    "\n",
    "db = MySQLdb.connect(\"127.0.0.1\",\"irene\",\"0000\",\"mydatabase\")\n",
    "\n",
    "cursor = db.cursor()\n",
    "\n",
    "# 1.將如果STUDENTS資料表存在，將STUDENTS資料表丟棄\n",
    "cursor.execute(\"DROP TABLE IF EXISTS STUDENTS\")\n",
    "\n",
    "# 2.創建STUDENTS資料表，資料表欄位如下\n",
    "sql = \"\"\"CREATE TABLE STUDENTS (\n",
    "         ID INT(11) NOT NULL AUTO_INCREMENT,\n",
    "         NAME CHAR(20) NOT NULL,\n",
    "         GENDER CHAR(20) NOT NULL,\n",
    "         CHINESE CHAR(20) NOT NULL,\n",
    "         ENGLISH CHAR(20) NOT NULL,\n",
    "         MATH CHAR(20) NOT NULL,\n",
    "         SOCIAL_SCIENCE CHAR(20) NOT NULL,\n",
    "         SCIENCE  CHAR(20) NOT NULL,\n",
    "         PRIMARY KEY  (ID)\n",
    "         )DEFAULT CHARSET=utf8\"\"\"\n",
    "\n",
    "cursor.execute(sql)\n",
    "db.close()"
   ]
  },
  {
   "cell_type": "markdown",
   "id": "frequent-helicopter",
   "metadata": {},
   "source": [
    "### 手動輸入學生成績到資料庫內  "
   ]
  },
  {
   "cell_type": "code",
   "execution_count": 2,
   "id": "blank-professor",
   "metadata": {},
   "outputs": [
    {
     "name": "stdout",
     "output_type": "stream",
     "text": [
      "Enter Student Score\n",
      "Enter Name: Isaac\n",
      "Enter Gender: M\n",
      "Enter Chinese Score: 60\n",
      "Enter English Score: 72\n",
      "Enter Math Score: 32\n",
      "Enter Social Science Score: 52\n",
      "Enter Science Score: 86\n",
      "Continue(Y/N)?Y\n",
      "Enter Name: Amy\n",
      "Enter Gender: F\n",
      "Enter Chinese Score: 50\n",
      "Enter English Score: 22\n",
      "Enter Math Score: 80\n",
      "Enter Social Science Score: 15\n",
      "Enter Science Score: 93\n",
      "Continue(Y/N)?N\n"
     ]
    }
   ],
   "source": [
    "import MySQLdb\n",
    "\n",
    "db = MySQLdb.connect(\"127.0.0.1\",\"irene\",\"0000\",\"mydatabase\")\n",
    "\n",
    "cursor = db.cursor()\n",
    "\n",
    "print(\"Enter Student Score\")\n",
    "while True:\n",
    "    student_name = input(\"Enter Name: \")\n",
    "    student_gender = input(\"Enter Gender: \")\n",
    "    student_chinese = input(\"Enter Chinese Score: \")\n",
    "    student_english = input(\"Enter English Score: \")\n",
    "    student_math = input(\"Enter Math Score: \")\n",
    "    student_social_science = input(\"Enter Social Science Score: \")\n",
    "    student_science = input(\"Enter Science Score: \")\n",
    "    \n",
    "    # 3.將student_name, student_gender, student_chinese, ......插入到資料庫\n",
    "    student_score = (student_name, student_gender, student_chinese, student_english, \\\n",
    "                     student_math, student_social_science, student_science)\n",
    "    sql = \"\"\"INSERT INTO STUDENTS\n",
    "             (NAME, GENDER, CHINESE, ENGLISH, MATH, SOCIAL_SCIENCE, SCIENCE)\n",
    "             VALUES (%s, %s, %s, %s, %s, %s, %s)\"\"\"\n",
    "    try:\n",
    "        cursor.execute(sql, student_score)\n",
    "        db.commit()\n",
    "    except:\n",
    "        db.rollback()\n",
    "    \n",
    "    again = input(\"Continue(Y/N)?\")\n",
    "    if again[0].lower() == \"n\":\n",
    "        break\n",
    "\n",
    "db.close()"
   ]
  },
  {
   "cell_type": "markdown",
   "id": "middle-jesus",
   "metadata": {},
   "source": [
    "### 查詢目前資料庫所有內容"
   ]
  },
  {
   "cell_type": "code",
   "execution_count": 3,
   "id": "regular-preservation",
   "metadata": {},
   "outputs": [
    {
     "name": "stdout",
     "output_type": "stream",
     "text": [
      "Name: Isaac, Gender: M, Chinese: 60, English: 72, Math: 32, Social Science: 52, Science: 86\n",
      "Name: Amy, Gender: F, Chinese: 50, English: 22, Math: 80, Social Science: 15, Science: 93\n"
     ]
    }
   ],
   "source": [
    "import MySQLdb\n",
    "\n",
    "db = MySQLdb.connect(\"127.0.0.1\",\"irene\",\"0000\",\"mydatabase\")\n",
    "\n",
    "cursor = db.cursor()\n",
    "\n",
    "sql = \"SELECT * FROM STUDENTS\"\n",
    "\n",
    "# 4.查詢目前資料庫所有內容\n",
    "try:\n",
    "    cursor.execute(sql)\n",
    "    results = cursor.fetchall()\n",
    "    for row in results:\n",
    "        name = row[1]\n",
    "        gender = row[2]\n",
    "        chinese = row[3]\n",
    "        english = row[4]\n",
    "        math = row[5]\n",
    "        social_science = row[6]\n",
    "        science = row[7]\n",
    "        print(\"Name: {}, Gender: {}, Chinese: {}, English: {}, Math: {}, Social Science: {}, Science: {}\"\n",
    "              .format(name, gender, chinese, english, math, social_science, science))\n",
    "except:\n",
    "    print(\"Error: Unable to fecth data\")\n",
    "\n",
    "db.close()"
   ]
  },
  {
   "cell_type": "markdown",
   "id": "governmental-specific",
   "metadata": {},
   "source": [
    "### 使用csv檔案，大量匯入全班成績"
   ]
  },
  {
   "cell_type": "code",
   "execution_count": 4,
   "id": "bound-battlefield",
   "metadata": {},
   "outputs": [
    {
     "name": "stdout",
     "output_type": "stream",
     "text": [
      "Insert Loe data......\n",
      "Insert Judy data......\n",
      "Insert Lily data......\n",
      "Insert Evan data......\n",
      "Insert Joyce data......\n",
      "Insert Yoshi data......\n",
      "Insert Amber data......\n",
      "Insert Alex data......\n",
      "Insert Sophia data......\n"
     ]
    }
   ],
   "source": [
    "import MySQLdb\n",
    "\n",
    "db = MySQLdb.connect(\"127.0.0.1\",\"irene\",\"0000\",\"mydatabase\")\n",
    "\n",
    "cursor = db.cursor()\n",
    "\n",
    "# 5.將exam_score.csv所有學生成績插入資料庫\n",
    "with open(\"exam_score.csv\") as f:\n",
    "    for index, i in enumerate(f.readlines()):\n",
    "        if index == 0: \n",
    "            continue\n",
    "        x = tuple(i.strip().split(','))\n",
    "        print(\"Insert {} data......\".format(x[0]))\n",
    "        sql = \"\"\"INSERT INTO STUDENTS\n",
    "                 (NAME, GENDER, CHINESE, ENGLISH, MATH, SOCIAL_SCIENCE, SCIENCE)\n",
    "                  VALUES (%s, %s, %s, %s, %s, %s, %s)\"\"\"\n",
    "        try:\n",
    "            cursor.execute(sql, x)\n",
    "            db.commit()\n",
    "        except:\n",
    "            db.rollback()\n",
    "\n",
    "db.close()"
   ]
  },
  {
   "cell_type": "markdown",
   "id": "cooperative-rental",
   "metadata": {},
   "source": [
    "### 將Sophia英文成績改成99"
   ]
  },
  {
   "cell_type": "code",
   "execution_count": 5,
   "id": "starting-nowhere",
   "metadata": {},
   "outputs": [],
   "source": [
    "import MySQLdb\n",
    "\n",
    "db = MySQLdb.connect(\"127.0.0.1\",\"irene\",\"0000\",\"mydatabase\")\n",
    "\n",
    "cursor = db.cursor()\n",
    "\n",
    "# 6.將sophia英文成績改成99\n",
    "sql = \"UPDATE STUDENTS SET ENGLISH = 99 WHERE NAME = '%s'\" % ('Sophia')\n",
    "\n",
    "try:\n",
    "    cursor.execute(sql)\n",
    "    db.commit()\n",
    "except:\n",
    "    db.rollback()\n",
    "\n",
    "db.close()"
   ]
  },
  {
   "cell_type": "markdown",
   "id": "planned-player",
   "metadata": {},
   "source": [
    "### 計算各科平均"
   ]
  },
  {
   "cell_type": "code",
   "execution_count": 6,
   "id": "occasional-perception",
   "metadata": {},
   "outputs": [
    {
     "name": "stdout",
     "output_type": "stream",
     "text": [
      "Chinese AVG: 57.182\n",
      "English AVG: 56.364\n",
      "Math AVG: 56.91\n",
      "Social Science AVG: 50.182\n",
      "Science AVG: 63.818\n"
     ]
    }
   ],
   "source": [
    "import MySQLdb\n",
    "\n",
    "db = MySQLdb.connect(\"127.0.0.1\",\"irene\",\"0000\",\"mydatabase\")\n",
    "\n",
    "cursor = db.cursor()\n",
    "\n",
    "sql = \"SELECT * FROM STUDENTS\"\n",
    "chinese_sum = 0\n",
    "english_sum = 0\n",
    "math_sum = 0\n",
    "social_science_sum = 0\n",
    "science_sum = 0\n",
    "\n",
    "try:\n",
    "    cursor.execute(sql)\n",
    "    results = cursor.fetchall()\n",
    "    num_students = len(results)\n",
    "    # 7.計算各個科目平均總和\n",
    "    for row in results:\n",
    "        chinese_sum += float(row[3]) #取出來是字串,要轉為浮點數\n",
    "        english_sum += float(row[4])\n",
    "        math_sum += float(row[5])\n",
    "        social_science_sum += float(row[6])\n",
    "        science_sum += float(row[7])\n",
    "except:\n",
    "    print(\"Error: unable to fecth data\")\n",
    "\n",
    "print(\"Chinese AVG: {:.3f}\".format(chinese_sum/num_students))\n",
    "print(\"English AVG: {:.3f}\".format(english_sum/num_students))\n",
    "print(\"Math AVG: {:.2f}\".format(math_sum/num_students))\n",
    "print(\"Social Science AVG: {:.3f}\".format(social_science_sum/num_students))\n",
    "print(\"Science AVG: {:.3f}\".format(science_sum/num_students))\n",
    "\n",
    "db.close()"
   ]
  }
 ],
 "metadata": {
  "kernelspec": {
   "display_name": "Python 3 (ipykernel)",
   "language": "python",
   "name": "python3"
  },
  "language_info": {
   "codemirror_mode": {
    "name": "ipython",
    "version": 3
   },
   "file_extension": ".py",
   "mimetype": "text/x-python",
   "name": "python",
   "nbconvert_exporter": "python",
   "pygments_lexer": "ipython3",
   "version": "3.9.12"
  }
 },
 "nbformat": 4,
 "nbformat_minor": 5
}
