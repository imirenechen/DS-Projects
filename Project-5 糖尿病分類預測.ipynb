{
 "cells": [
  {
   "cell_type": "markdown",
   "metadata": {},
   "source": [
    "## 糖尿病分類預測—Logistic Regression  \n",
    "- Dataset: https://www.kaggle.com/uciml/pima-indians-diabetes-database  \n",
    "- Model: https://scikit-learn.org/stable/modules/generated/sklearn.linear_model.LogisticRegression.html  "
   ]
  },
  {
   "cell_type": "code",
   "execution_count": 1,
   "metadata": {},
   "outputs": [
    {
     "name": "stdout",
     "output_type": "stream",
     "text": [
      "Number of correct sample: 163\n",
      "Accuracy: 0.706\n"
     ]
    }
   ],
   "source": [
    "import pandas as pd\n",
    "import numpy as np\n",
    "from sklearn.preprocessing import StandardScaler\n",
    "from sklearn.model_selection import train_test_split\n",
    "from sklearn.linear_model  import LogisticRegression\n",
    "from sklearn.metrics import accuracy_score\n",
    "\n",
    "#1.讀取pima-indians-diabetes.csv資料\n",
    "data = pd.read_csv(\"pima-indians-diabetes.csv\")\n",
    "\n",
    "#2.用'pregnant','insulin','bmi', 'age' 四個變數預測'label'(是否發病)\n",
    "X = data[[\"pregnant\",\"insulin\",\"bmi\",\"age\"]]\n",
    "y = data[\"label\"]\n",
    "\n",
    "#3.使用train_test_split將資料 7:3做分割，其中random_state=1\n",
    "X_train, X_test, y_train, y_test = train_test_split(X, y, test_size=0.3, random_state=1)\n",
    "\n",
    "#4.對訓練資料及測試資料做標準化\n",
    "scaler = StandardScaler().fit(X_train)\n",
    "X_train = scaler.transform(X_train)\n",
    "X_test = scaler.transform(X_test)\n",
    "\n",
    "#5.建立LogisticRegression並訓練\n",
    "model = LogisticRegression()\n",
    "model.fit(X_train,y_train)\n",
    "y_pred = model.predict(X_test)\n",
    "\n",
    "#6.計算準確率\n",
    "accuracy = accuracy_score(y_test, y_pred)\n",
    "num_correct_samples = accuracy_score(y_test, y_pred, normalize=False)\n",
    "\n",
    "print(\"Number of correct sample: {}\".format(num_correct_samples))\n",
    "print(\"Accuracy: {:.3f}\".format(accuracy))"
   ]
  }
 ],
 "metadata": {
  "kernelspec": {
   "display_name": "Python 3 (ipykernel)",
   "language": "python",
   "name": "python3"
  },
  "language_info": {
   "codemirror_mode": {
    "name": "ipython",
    "version": 3
   },
   "file_extension": ".py",
   "mimetype": "text/x-python",
   "name": "python",
   "nbconvert_exporter": "python",
   "pygments_lexer": "ipython3",
   "version": "3.9.12"
  }
 },
 "nbformat": 4,
 "nbformat_minor": 2
}
