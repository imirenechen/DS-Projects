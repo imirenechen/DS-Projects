{
 "cells": [
  {
   "cell_type": "markdown",
   "id": "53a10df2",
   "metadata": {},
   "source": [
    "## PPT八卦版-使用POST與紀錄Cookies"
   ]
  },
  {
   "cell_type": "code",
   "execution_count": 1,
   "id": "de1b0788",
   "metadata": {},
   "outputs": [
    {
     "name": "stdout",
     "output_type": "stream",
     "text": [
      "<RequestsCookieJar[]>\n",
      "<RequestsCookieJar[<Cookie over18=1 for www.ptt.cc/>]>\n",
      "<!DOCTYPE html>\n",
      "<html>\n",
      "\t<head>\n",
      "\t\t<meta charset=\"utf-8\">\n",
      "\t\t\n",
      "\n",
      "<meta name=\"viewport\" content=\"width=device-width, initial-scale=1\">\n",
      "\n",
      "<title>看板 Gossiping 文章列表 - 批踢踢實業坊</title>\n",
      "\n",
      "<link rel=\"stylesheet\" type=\"text/css\" href=\"//images.ptt.cc/bbs/v2.27/bbs-common.css\">\n",
      "<link rel=\"stylesheet\" type=\"text/css\" href=\"//images.ptt.cc/bbs/v2.27/bbs-base.css\" media=\"screen\">\n",
      "<link rel=\"stylesheet\" type=\"text/css\" href=\"//images.ptt.cc/bbs/v2.27/bbs-custom.css\">\n",
      "<link rel=\"stylesheet\" type=\"text/css\" href=\"//images.ptt.cc/bbs/v2.27/pushstream.css\" media=\"screen\">\n",
      "<link rel=\"stylesheet\" type=\"text/css\" href=\"//images.ptt.cc/bbs/v2.27/bbs-print.css\" media=\"print\">\n",
      "\n",
      "\n",
      "\n",
      "\n",
      "\t</head>\n",
      "    <body>\n",
      "\t\t\n",
      "<div id=\"topbar-container\">\n",
      "\t<div id=\"topbar\" class=\"bbs-content\">\n",
      "\t\t<a id=\"logo\" href=\"/bbs/\">批踢踢實業坊</a>\n",
      "\t\t<span>&rsaquo;</span>\n",
      "\t\t<a class=\"board\" href=\"/bbs/Gossiping/index.html\"><span class=\"board-label\">看板 </span>Gossiping</a>\n",
      "\t\t<a class=\"right small\" href=\"/about.html\">關於我們</a>\n",
      "\t\t<a class=\"right small\" href=\"/co\n"
     ]
    }
   ],
   "source": [
    "import requests\n",
    "from bs4 import BeautifulSoup\n",
    "\n",
    "headers = {\"User-Agent\":\"Mozilla/5.0 (Windows NT 10.0; Win64; x64) \\\n",
    "           AppleWebKit/537.36 (KHTML, like Gecko) Chrome/109.0.0.0 Safari/537.36\"}\n",
    "\n",
    "url_landing_page = \"https://www.ptt.cc/ask/over18?from=%2Fbbs%2FGossiping%2Findex.html\"\n",
    "url_temp = \"\"\n",
    "url_index = \"https://www.ptt.cc/bbs/Gossiping/index.html\"\n",
    "\n",
    "data = {}\n",
    "ss = requests.session() #用來記錄經過頁面的cookies\n",
    "\n",
    "res_landing_page = ss.get(url=url_landing_page, headers=headers)\n",
    "soup_landing_page = BeautifulSoup(res_landing_page.text, \"html.parser\")\n",
    "\n",
    "button = soup_landing_page.select('button[class=\"btn-big\"]')[0]\n",
    "#print(button)\n",
    "data[button[\"name\"]] = button[\"value\"]\n",
    "#print(data)\n",
    "\n",
    "hidden = soup_landing_page.select('input')[0]\n",
    "#print(hidden)\n",
    "data[hidden[\"name\"]] = hidden[\"value\"]\n",
    "#print(data)\n",
    "\n",
    "url_temp = \"https://www.ptt.cc\" + soup_landing_page.select('form')[0][\"action\"]\n",
    "#print(url_temp)\n",
    "\n",
    "print(ss.cookies)\n",
    "ss.post(url_temp, data=data, headers=headers)\n",
    "print(ss.cookies)\n",
    "\n",
    "res_index = ss.get(url=url_index, headers=headers)\n",
    "print(res_index.text[:1000])"
   ]
  }
 ],
 "metadata": {
  "kernelspec": {
   "display_name": "Python 3 (ipykernel)",
   "language": "python",
   "name": "python3"
  },
  "language_info": {
   "codemirror_mode": {
    "name": "ipython",
    "version": 3
   },
   "file_extension": ".py",
   "mimetype": "text/x-python",
   "name": "python",
   "nbconvert_exporter": "python",
   "pygments_lexer": "ipython3",
   "version": "3.9.12"
  }
 },
 "nbformat": 4,
 "nbformat_minor": 5
}
