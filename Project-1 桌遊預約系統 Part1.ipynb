{
 "cells": [
  {
   "cell_type": "markdown",
   "id": "511534bb",
   "metadata": {},
   "source": [
    "## 桌遊預約系統 Part1"
   ]
  },
  {
   "cell_type": "code",
   "execution_count": 1,
   "id": "276b0e00",
   "metadata": {},
   "outputs": [
    {
     "name": "stdout",
     "output_type": "stream",
     "text": [
      "輸入訊息：想看遊戲種類\n",
      "尚可預約遊戲：\n",
      "小瓦隆\n",
      "雨聲\n",
      "龍捲風\n",
      "------------------------\n",
      "\n",
      "輸入訊息：想預約小瓦隆\n",
      "已為您預約完成：小瓦隆\n",
      "------------------------\n",
      "\n",
      "輸入訊息：想看遊戲種類\n",
      "尚可預約遊戲：\n",
      "雨聲\n",
      "龍捲風\n",
      "------------------------\n",
      "\n",
      "輸入訊息：想預約小瓦隆\n",
      "此遊戲已被預約！抱歉\n",
      "------------------------\n",
      "\n",
      "輸入訊息：想取消預約\n",
      "已為您取消預約\n",
      "------------------------\n",
      "\n",
      "輸入訊息：想看遊戲種類\n",
      "尚可預約遊戲：\n",
      "小瓦隆\n",
      "雨聲\n",
      "龍捲風\n",
      "------------------------\n",
      "\n",
      "輸入訊息：哈囉\n",
      "您好！請問需要什麼樣的服務？\n",
      "------------------------\n",
      "\n",
      "輸入訊息：結束\n"
     ]
    }
   ],
   "source": [
    "# create games dictionary\n",
    "games = {\"小瓦隆\" : None, #None表示沒人預約\n",
    "         \"雨聲\" : None,\n",
    "         \"龍捲風\" : None}\n",
    "\n",
    "# run for 100 times\n",
    "for i in range(1, 100):\n",
    "    msg = input(\"輸入訊息：\")\n",
    "    current_user_id = \"123abc\"\n",
    "    \n",
    "    # implement reservation\n",
    "    if msg == \"想看遊戲種類\":\n",
    "        game_list = []\n",
    "        for game, user_id in games.items():\n",
    "            if user_id is None:\n",
    "                game_list.append(game) #1.將遊戲加到game_list裡面\n",
    "                \n",
    "        game_text = \"尚可預約遊戲：\"\n",
    "        print(game_text)\n",
    "        for game in game_list:\n",
    "            print(game) #2.將所有尚可預約的遊戲print出來\n",
    "            \n",
    "    elif msg[0:3] == \"想預約\":\n",
    "        game_name = msg[3:]\n",
    "        found = False\n",
    "        for game, user_id in games.items():\n",
    "            if game == game_name:\n",
    "                found = True\n",
    "                if user_id is None:\n",
    "                    games[game] = current_user_id #3.將想要預約的遊戲在字典裡對應的value改成user_id\n",
    "                    print(\"已為您預約完成：{}\".format(game))\n",
    "                else:\n",
    "                    print(\"此遊戲已被預約！抱歉\")\n",
    "        if found == False:\n",
    "            print(\"並沒有此款遊戲\")\n",
    "            \n",
    "    elif msg == \"想取消預約\":\n",
    "        for game, user_id in games.items():\n",
    "            if user_id == current_user_id:\n",
    "                games[game] = None #4.將遊戲對應的valule改回None表示遊戲取消預約\n",
    "                print(\"已為您取消預約\")\n",
    "                \n",
    "    elif msg == \"結束\":\n",
    "        break\n",
    "    else:\n",
    "        print(\"您好！請問需要什麼樣的服務？\")\n",
    "    print('------------------------\\n')"
   ]
  }
 ],
 "metadata": {
  "kernelspec": {
   "display_name": "Python 3 (ipykernel)",
   "language": "python",
   "name": "python3"
  },
  "language_info": {
   "codemirror_mode": {
    "name": "ipython",
    "version": 3
   },
   "file_extension": ".py",
   "mimetype": "text/x-python",
   "name": "python",
   "nbconvert_exporter": "python",
   "pygments_lexer": "ipython3",
   "version": "3.9.12"
  }
 },
 "nbformat": 4,
 "nbformat_minor": 5
}
