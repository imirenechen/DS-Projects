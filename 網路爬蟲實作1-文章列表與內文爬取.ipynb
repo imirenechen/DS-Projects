{
 "cells": [
  {
   "cell_type": "markdown",
   "id": "92bbc296",
   "metadata": {},
   "source": [
    "## PTT電影版-文章列表與內文爬取"
   ]
  },
  {
   "cell_type": "markdown",
   "id": "1e0c6fb7",
   "metadata": {},
   "source": [
    "### 文章列表"
   ]
  },
  {
   "cell_type": "code",
   "execution_count": 1,
   "id": "a32b42ba",
   "metadata": {},
   "outputs": [
    {
     "name": "stdout",
     "output_type": "stream",
     "text": [
      "[好雷] 過年適合長輩看的《天龍八部之喬峰傳》\n",
      "https://www.ptt.cc/bbs/movie/M.1674534281.A.90B.html\n",
      "\n",
      "[ 普雷] 不推灌籃高手\n",
      "https://www.ptt.cc/bbs/movie/M.1674535425.A.EA7.html\n",
      "\n",
      "[公告] 電影板板規 2022/12/5\n",
      "https://www.ptt.cc/bbs/movie/M.1630756788.A.1FE.html\n",
      "\n"
     ]
    }
   ],
   "source": [
    "import requests\n",
    "from bs4 import BeautifulSoup\n",
    "\n",
    "headers = {\"User-Agent\" : \"Mozilla/5.0 (Windows NT 10.0; Win64; x64) \\\n",
    "           AppleWebKit/537.36 (KHTML, like Gecko) Chrome/109.0.0.0 Safari/537.36\"}\n",
    "url = \"https://www.ptt.cc/bbs/movie/index.html\"\n",
    "\n",
    "res = requests.get(url, headers = headers)\n",
    "soup = BeautifulSoup(res.text, \"html.parser\")\n",
    "#print(soup) #取得html原始碼\n",
    "#print(soup.prettify()) #經過排版後的結果\n",
    "\n",
    "article_title_html = soup.select('div[class=\"title\"]')\n",
    "#print(article_title_html) #回傳list形式\n",
    "\n",
    "for article_title in article_title_html[0:3]: #取前三個測試\n",
    "    print(article_title.a.text) #取得標題\n",
    "    print(\"https://www.ptt.cc\"+article_title.a[\"href\"]) #取得網址\n",
    "    print()"
   ]
  },
  {
   "cell_type": "markdown",
   "id": "72aa2927",
   "metadata": {},
   "source": [
    "### 多頁爬取"
   ]
  },
  {
   "cell_type": "code",
   "execution_count": 2,
   "id": "0a2c6d9e",
   "metadata": {},
   "outputs": [
    {
     "name": "stdout",
     "output_type": "stream",
     "text": [
      "[好雷] 過年適合長輩看的《天龍八部之喬峰傳》\n",
      "https://www.ptt.cc/bbs/movie/M.1674534281.A.90B.html\n",
      "\n",
      "[ 普雷] 不推灌籃高手\n",
      "https://www.ptt.cc/bbs/movie/M.1674535425.A.EA7.html\n",
      "\n",
      "[公告] 電影板板規 2022/12/5\n",
      "https://www.ptt.cc/bbs/movie/M.1630756788.A.1FE.html\n",
      "\n",
      "[問片] 想問一部偵探電影\n",
      "https://www.ptt.cc/bbs/movie/M.1674489110.A.3A9.html\n",
      "\n",
      "[新聞] 《做工的人》電影版全員回歸！李銘順「泡\n",
      "https://www.ptt.cc/bbs/movie/M.1674489529.A.B9F.html\n",
      "\n",
      "[討論] 有雷，阿凡達水之道的地球科研團隊去哪了\n",
      "https://www.ptt.cc/bbs/movie/M.1674490054.A.63B.html\n",
      "\n",
      "[討論] 有線電視HBO 有媽的多重宇宙\n",
      "https://www.ptt.cc/bbs/movie/M.1674470422.A.C63.html\n",
      "\n",
      "[好雷] 灌籃高手\n",
      "https://www.ptt.cc/bbs/movie/M.1674470753.A.053.html\n",
      "\n",
      "[新聞] 盤點2023年大勢動畫電影！　宮崎駿隔十年\n",
      "https://www.ptt.cc/bbs/movie/M.1674471052.A.614.html\n",
      "\n"
     ]
    }
   ],
   "source": [
    "import requests\n",
    "from bs4 import BeautifulSoup\n",
    "\n",
    "headers = {\"User-Agent\" : \"Mozilla/5.0 (Windows NT 10.0; Win64; x64) \\\n",
    "           AppleWebKit/537.36 (KHTML, like Gecko) Chrome/109.0.0.0 Safari/537.36\"}\n",
    "\n",
    "#方法1:使用網址的規律\n",
    "page_number=9505 #目前的page index\n",
    "\n",
    "while page_number>=9503:\n",
    "    url = \"https://www.ptt.cc/bbs/movie/index{}.html\".format(page_number)\n",
    "\n",
    "    res = requests.get(url, headers = headers)\n",
    "    soup = BeautifulSoup(res.text, \"html.parser\")\n",
    "    #print(soup) #取得html原始碼\n",
    "    #print(soup.prettify()) #經過排版後的結果\n",
    "\n",
    "    article_title_html = soup.select('div[class=\"title\"]')\n",
    "    #print(article_title_html) #回傳list形式\n",
    "    \n",
    "    for article_title in article_title_html[0:3]:\n",
    "        try:\n",
    "            print(article_title.a.text) #取得標題\n",
    "            print(\"https://www.ptt.cc\"+article_title.a[\"href\"]) #取得網址\n",
    "        except AttributeError as e:\n",
    "            print(article_title)\n",
    "            print(e.args) #把錯誤訊息印出來\n",
    "        print()\n",
    "    \n",
    "    page_number -= 1"
   ]
  },
  {
   "cell_type": "code",
   "execution_count": 3,
   "id": "a0eb606a",
   "metadata": {},
   "outputs": [
    {
     "name": "stdout",
     "output_type": "stream",
     "text": [
      "[好雷] 過年適合長輩看的《天龍八部之喬峰傳》\n",
      "https://www.ptt.cc/bbs/movie/M.1674534281.A.90B.html\n",
      "\n",
      "[ 普雷] 不推灌籃高手\n",
      "https://www.ptt.cc/bbs/movie/M.1674535425.A.EA7.html\n",
      "\n",
      "[公告] 電影板板規 2022/12/5\n",
      "https://www.ptt.cc/bbs/movie/M.1630756788.A.1FE.html\n",
      "\n",
      "[問片] 想問一部偵探電影\n",
      "https://www.ptt.cc/bbs/movie/M.1674489110.A.3A9.html\n",
      "\n",
      "[新聞] 《做工的人》電影版全員回歸！李銘順「泡\n",
      "https://www.ptt.cc/bbs/movie/M.1674489529.A.B9F.html\n",
      "\n",
      "[討論] 有雷，阿凡達水之道的地球科研團隊去哪了\n",
      "https://www.ptt.cc/bbs/movie/M.1674490054.A.63B.html\n",
      "\n",
      "[討論] 有線電視HBO 有媽的多重宇宙\n",
      "https://www.ptt.cc/bbs/movie/M.1674470422.A.C63.html\n",
      "\n",
      "[好雷] 灌籃高手\n",
      "https://www.ptt.cc/bbs/movie/M.1674470753.A.053.html\n",
      "\n",
      "[新聞] 盤點2023年大勢動畫電影！　宮崎駿隔十年\n",
      "https://www.ptt.cc/bbs/movie/M.1674471052.A.614.html\n",
      "\n"
     ]
    }
   ],
   "source": [
    "import requests\n",
    "from bs4 import BeautifulSoup\n",
    "\n",
    "headers = {\"User-Agent\" : \"Mozilla/5.0 (Windows NT 10.0; Win64; x64) \\\n",
    "           AppleWebKit/537.36 (KHTML, like Gecko) Chrome/109.0.0.0 Safari/537.36\"}\n",
    "\n",
    "#方法2:抓取上一頁的網址\n",
    "url = \"https://www.ptt.cc/bbs/movie/index.html\"\n",
    "\n",
    "for i in range(3):\n",
    "    res = requests.get(url, headers = headers)\n",
    "    soup = BeautifulSoup(res.text, \"html.parser\")\n",
    "    #print(soup) #取得html原始碼\n",
    "    #print(soup.prettify()) #經過排版後的結果\n",
    "\n",
    "    article_title_html = soup.select('div[class=\"title\"]')\n",
    "    #print(article_title_html) #回傳list形式\n",
    "\n",
    "    for article_title in article_title_html[0:3]:\n",
    "        try:\n",
    "            print(article_title.a.text) #取得標題\n",
    "            print(\"https://www.ptt.cc\"+article_title.a[\"href\"]) #取得網址\n",
    "        except AttributeError as e:\n",
    "            print(article_title)\n",
    "            print(e.args) #把錯誤訊息印出來\n",
    "        print()\n",
    "\n",
    "    last_page_url = soup.select('a[class=\"btn wide\"]')[1][\"href\"]\n",
    "    last_page_url = \"https://www.ptt.cc\" + last_page_url\n",
    "    url = last_page_url"
   ]
  },
  {
   "cell_type": "markdown",
   "id": "7acf7fc8",
   "metadata": {},
   "source": [
    "### 儲存內文"
   ]
  },
  {
   "cell_type": "code",
   "execution_count": 4,
   "id": "6e0db35a",
   "metadata": {},
   "outputs": [
    {
     "name": "stdout",
     "output_type": "stream",
     "text": [
      "[好雷] 過年適合長輩看的《天龍八部之喬峰傳》\n",
      "https://www.ptt.cc/bbs/movie/M.1674534281.A.90B.html\n",
      "\n",
      "[ 普雷] 不推灌籃高手\n",
      "https://www.ptt.cc/bbs/movie/M.1674535425.A.EA7.html\n",
      "\n",
      "[公告] 電影板板規 2022/12/5\n",
      "https://www.ptt.cc/bbs/movie/M.1630756788.A.1FE.html\n",
      "\n",
      "[問片] 想問一部偵探電影\n",
      "https://www.ptt.cc/bbs/movie/M.1674489110.A.3A9.html\n",
      "\n",
      "[新聞] 《做工的人》電影版全員回歸！李銘順「泡\n",
      "https://www.ptt.cc/bbs/movie/M.1674489529.A.B9F.html\n",
      "\n",
      "[討論] 有雷，阿凡達水之道的地球科研團隊去哪了\n",
      "https://www.ptt.cc/bbs/movie/M.1674490054.A.63B.html\n",
      "\n",
      "[討論] 有線電視HBO 有媽的多重宇宙\n",
      "https://www.ptt.cc/bbs/movie/M.1674470422.A.C63.html\n",
      "\n",
      "[好雷] 灌籃高手\n",
      "https://www.ptt.cc/bbs/movie/M.1674470753.A.053.html\n",
      "\n",
      "[新聞] 盤點2023年大勢動畫電影！　宮崎駿隔十年\n",
      "https://www.ptt.cc/bbs/movie/M.1674471052.A.614.html\n",
      "\n"
     ]
    }
   ],
   "source": [
    "import requests\n",
    "from bs4 import BeautifulSoup\n",
    "import os\n",
    "\n",
    "path = \"./res\"\n",
    "if not os.path.exists(path):\n",
    "    os.mkdir(path)\n",
    "\n",
    "headers = {\"User-Agent\" : \"Mozilla/5.0 (Windows NT 10.0; Win64; x64) \\\n",
    "           AppleWebKit/537.36 (KHTML, like Gecko) Chrome/109.0.0.0 Safari/537.36\"}\n",
    "\n",
    "page_number=9505 #目前的page index\n",
    "\n",
    "while page_number>=9503:\n",
    "    url = \"https://www.ptt.cc/bbs/movie/index{}.html\".format(page_number)\n",
    "\n",
    "    res = requests.get(url, headers = headers)\n",
    "    soup = BeautifulSoup(res.text, \"html.parser\")\n",
    "    #print(soup) #取得html原始碼\n",
    "    #print(soup.prettify()) #經過排版後的結果\n",
    "\n",
    "    article_title_html = soup.select('div[class=\"title\"]')\n",
    "    #print(article_title_html) #回傳list形式\n",
    "    \n",
    "    for article_title in article_title_html[0:3]:\n",
    "        try:\n",
    "            article_text = article_title.a.text #取得標題\n",
    "            article_url = \"https://www.ptt.cc\"+article_title.a[\"href\"] #取得網址\n",
    "            print(article_text)\n",
    "            print(article_url)\n",
    "            \n",
    "            #對文章網址提出請求\n",
    "            article_res = requests.get(article_url, headers = headers)\n",
    "            article_soup = BeautifulSoup(article_res.text, \"html.parser\")\n",
    "            article_content = article_soup.select(\"div#main-content\")[0].text.split(\"--\")[0] #.text只取出文字部分\n",
    "            #print(article_content)\n",
    "            with open(r\"%s/%s.txt\"%(path,article_text), \"w\", encoding=\"utf-8\") as w:\n",
    "                w.write(article_content)\n",
    "            \n",
    "        except AttributeError as e:\n",
    "            print(article_title)\n",
    "            print(e.args) #把錯誤訊息印出來\n",
    "        except OSError as e:\n",
    "            pass\n",
    "        print()\n",
    "    \n",
    "    page_number -= 1"
   ]
  }
 ],
 "metadata": {
  "kernelspec": {
   "display_name": "Python 3 (ipykernel)",
   "language": "python",
   "name": "python3"
  },
  "language_info": {
   "codemirror_mode": {
    "name": "ipython",
    "version": 3
   },
   "file_extension": ".py",
   "mimetype": "text/x-python",
   "name": "python",
   "nbconvert_exporter": "python",
   "pygments_lexer": "ipython3",
   "version": "3.9.12"
  }
 },
 "nbformat": 4,
 "nbformat_minor": 5
}
