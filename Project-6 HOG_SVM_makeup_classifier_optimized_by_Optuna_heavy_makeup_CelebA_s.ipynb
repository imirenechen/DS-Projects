{
  "nbformat": 4,
  "nbformat_minor": 0,
  "metadata": {
    "colab": {
      "provenance": [],
      "include_colab_link": true
    },
    "kernelspec": {
      "name": "python3",
      "display_name": "Python 3"
    },
    "accelerator": "GPU"
  },
  "cells": [
    {
      "cell_type": "markdown",
      "metadata": {
        "id": "view-in-github",
        "colab_type": "text"
      },
      "source": [
        "<a href=\"https://colab.research.google.com/github/imirenechen/DS-Projects/blob/main/Project-6%20HOG_SVM_makeup_classifier_optimized_by_Optuna_heavy_makeup_CelebA_s.ipynb\" target=\"_parent\"><img src=\"https://colab.research.google.com/assets/colab-badge.svg\" alt=\"Open In Colab\"/></a>"
      ]
    },
    {
      "cell_type": "markdown",
      "metadata": {
        "id": "FOJFyELe7wsG"
      },
      "source": [
        "Please download the following zip file, extract it and put it under your google \n",
        "drive\n",
        "\n",
        "https://tinyurl.com/bsff25hs\n",
        "\n",
        "\n",
        "In this example, we will perform a binary classification for heavy makeup and no-heavy makeup images coming from CelebA.\n"
      ]
    },
    {
      "cell_type": "code",
      "metadata": {
        "id": "NApxKm8Z69Mn",
        "colab": {
          "base_uri": "https://localhost:8080/"
        },
        "outputId": "d42578e0-825f-44cc-81f0-cc5a263b112f"
      },
      "source": [
        "from google.colab import drive\n",
        "drive.mount('/content/drive')"
      ],
      "execution_count": null,
      "outputs": [
        {
          "output_type": "stream",
          "name": "stdout",
          "text": [
            "Drive already mounted at /content/drive; to attempt to forcibly remount, call drive.mount(\"/content/drive\", force_remount=True).\n"
          ]
        }
      ]
    },
    {
      "cell_type": "code",
      "metadata": {
        "id": "RyTXyWEM7IOi",
        "colab": {
          "base_uri": "https://localhost:8080/"
        },
        "outputId": "f27c7d61-06cf-4e0d-acb0-41802a28417e"
      },
      "source": [
        "# if you mount Google drive correctly, the following commands should be able to be executed correctly\n",
        "#!ls /content/drive/\n",
        "%cd \"/content/drive/MyDrive/Colab Notebooks\"\n",
        "%cd \"heavy_makeup_CelebA_s\"\n",
        "!ls"
      ],
      "execution_count": null,
      "outputs": [
        {
          "output_type": "stream",
          "name": "stdout",
          "text": [
            "/content/drive/MyDrive/Colab Notebooks\n",
            "/content/drive/MyDrive/Colab Notebooks/heavy_makeup_CelebA_s\n",
            "train  val\n"
          ]
        }
      ]
    },
    {
      "cell_type": "code",
      "metadata": {
        "colab": {
          "base_uri": "https://localhost:8080/"
        },
        "id": "SGAD-b84M67r",
        "outputId": "377157fd-6cca-4967-d917-fc161f7b323f"
      },
      "source": [
        "# step 1: preparing HOG feature vectors for heavy makeup & no-heavy makeup classification in training & validation, respectively\n",
        "from skimage import data, color, feature\n",
        "import skimage.data\n",
        "import cv2\n",
        "from google.colab.patches import cv2_imshow\n",
        "import glob\n",
        "import numpy as np\n",
        "from timeit import default_timer as timer\n",
        "\n",
        "# image size before cropping\n",
        "resize_img_w = 256\n",
        "resize_img_h = 256\n",
        "\n",
        "# image size after cropping\n",
        "crop_img_w = 224\n",
        "crop_img_h = 224\n",
        "\n",
        "# feature size for 224x224 image using default HOG settings from sklearn\n",
        "HOG_dim = 54756\n",
        "\n",
        "# the folder of training data in YOUR Google drive\n",
        "training_heavy_makeup_imgs_dir = \"/content/drive/MyDrive/Colab Notebooks/heavy_makeup_CelebA_s/train/heavy_makeup/\"\n",
        "training_non_heavy_makeup_imgs_dir = \"/content/drive/MyDrive/Colab Notebooks/heavy_makeup_CelebA_s/train/no_heavy_makeup/\"\n",
        "\n",
        "# the folder of validation data in YOUR Google drive\n",
        "validation_heavy_makeup_imgs_dir = \"/content/drive/MyDrive/Colab Notebooks/heavy_makeup_CelebA_s/val/heavy_makeup/\"\n",
        "validation_non_heavy_makeup_imgs_dir = \"/content/drive/MyDrive/Colab Notebooks/heavy_makeup_CelebA_s/val/no_heavy_makeup/\"\n",
        "\n",
        "# the file lists of training data\n",
        "training_heavy_makeup_img_files = glob.glob(training_heavy_makeup_imgs_dir + '*.jpg')\n",
        "training_no_heavy_makeup_img_files = glob.glob(training_non_heavy_makeup_imgs_dir + '*.jpg')\n",
        "\n",
        "# the file lists of validation data\n",
        "validation_heavy_makeup_img_files = glob.glob(validation_heavy_makeup_imgs_dir + '*.jpg')\n",
        "validation_no_heavy_makeup_img_files = glob.glob(validation_non_heavy_makeup_imgs_dir + '*.jpg')\n",
        "\n",
        "# the number of trainimg images: 1000 for postive and negative, respectively\n",
        "training_heavy_makeup_img_file_num = len(training_heavy_makeup_img_files)\n",
        "training_no_heavy_makeup_img_file_num = len(training_no_heavy_makeup_img_files)\n",
        "\n",
        "# the number of validation images: 1000 for postive and negative, respectively\n",
        "validation_heavy_makeup_img_file_num = len(validation_heavy_makeup_img_files)\n",
        "validation_no_heavy_makeup_img_file_num = len(validation_no_heavy_makeup_img_files)\n",
        "\n",
        "#print(len(training_heavy_makeup_img_files))\n",
        "#print(training_no_heavy_makeup_img_files)\n",
        "#print(validation_heavy_makeup_img_files)\n",
        "#print(validation_no_heavy_makeup_img_files)\n",
        "\n",
        "print(\"the number of heavy makeup images in training folder:{} \".format(training_heavy_makeup_img_file_num))\n",
        "print(\"the number of no heavy makeup images in training folder:{} \".format(training_no_heavy_makeup_img_file_num))\n",
        "\n",
        "print(\"the number of heavy makeup images in validation folder:{}\".format(validation_heavy_makeup_img_file_num))\n",
        "print(\"the number of no heavy makeup images in validation folder:{} \".format(validation_no_heavy_makeup_img_file_num))\n",
        "\n",
        "def img_crop(img, resize_img_w, resize_img_h, target_img_w, target_img_h):\n",
        "  #h, w, c =img.shape\n",
        "  img = cv2.resize(img, (int(resize_img_w), int(resize_img_h)))  \n",
        "  top_y = (resize_img_h-target_img_h)/2\n",
        "  btm_y = resize_img_h-(resize_img_h-target_img_h)/2\n",
        "  left_x = (resize_img_w-target_img_w)/2\n",
        "  right_x = resize_img_w-(resize_img_w-target_img_w)/2\n",
        "  cropped_img = img[int(top_y):int(btm_y),int(left_x):int(right_x) ]\n",
        "  \n",
        "  return cropped_img\n",
        "\n",
        "HOG_postitive_matrix = np.zeros([int(training_heavy_makeup_img_file_num), HOG_dim])\n",
        "HOG_negative_matrix = np.zeros([int(training_no_heavy_makeup_img_file_num), HOG_dim])\n",
        "\n",
        "print(\"start to prepare HOG features for postive training images\")\n",
        "start = timer()\n",
        "for i in range(0,int(training_heavy_makeup_img_file_num)):\n",
        "  #print(\"i={}\".format(i))\n",
        "  img = cv2.imread(training_heavy_makeup_img_files[i])\n",
        "  img_cropped = img_crop(img, resize_img_w, resize_img_h, crop_img_w, crop_img_h)\n",
        "  image = cv2.cvtColor(img_cropped, cv2.COLOR_BGR2GRAY)\n",
        "  hog_vec = feature.hog(image)\n",
        "  #print(hog_vec.shape)\n",
        "  HOG_postitive_matrix[i,:] = hog_vec\n",
        "end = timer()\n",
        "print(\"finish preparing HOG features for postive training images and totally {}-seconds are consumed\".format(end-start))\n",
        "\n",
        "\n",
        "print(\"start to prepare HOG features for negative training images\")\n",
        "start = timer()\n",
        "for i in range(0,int(training_no_heavy_makeup_img_file_num)):\n",
        "  #print(\"i={}\".format(i))\n",
        "  img = cv2.imread(training_no_heavy_makeup_img_files[i])\n",
        "  img_cropped = img_crop(img, resize_img_w, resize_img_h, crop_img_w, crop_img_h)\n",
        "  image = cv2.cvtColor(img_cropped, cv2.COLOR_BGR2GRAY)\n",
        "  hog_vec = feature.hog(image)\n",
        "  #print(hog_vec.shape)\n",
        "  HOG_negative_matrix[i,:] = hog_vec\n",
        "end = timer()\n",
        "print(\"finish preparing HOG features for negative training images and totally {}-seconds are consumed\".format(end-start))\n",
        "\n",
        "# stack HOG postive & negative features vertically\n",
        "training_matrix = np.vstack((HOG_postitive_matrix,HOG_negative_matrix))\n",
        "\n",
        "# initialize the label matrix where top half is positive\n",
        "label_matrix = np.zeros(int(training_heavy_makeup_img_file_num) + int(training_no_heavy_makeup_img_file_num))\n",
        "label_matrix[0:int(training_heavy_makeup_img_file_num)] = 1"
      ],
      "execution_count": null,
      "outputs": [
        {
          "output_type": "stream",
          "name": "stdout",
          "text": [
            "the number of heavy makeup images in training folder:200 \n",
            "the number of no heavy makeup images in training folder:200 \n",
            "the number of heavy makeup images in validation folder:40\n",
            "the number of no heavy makeup images in validation folder:40 \n",
            "start to prepare HOG features for postive training images\n",
            "finish preparing HOG features for postive training images and totally 12.46017424400003-seconds are consumed\n",
            "start to prepare HOG features for negative training images\n",
            "finish preparing HOG features for negative training images and totally 47.05626225899999-seconds are consumed\n"
          ]
        }
      ]
    },
    {
      "cell_type": "code",
      "metadata": {
        "colab": {
          "base_uri": "https://localhost:8080/"
        },
        "id": "7CRuj2KOnTwW",
        "outputId": "ec2bcdd9-7b8e-4ad5-a24e-daf936301b8e"
      },
      "source": [
        "## Optuna is not installed in colab so we need to manually install it.\n",
        "!pip install optuna"
      ],
      "execution_count": null,
      "outputs": [
        {
          "output_type": "stream",
          "name": "stdout",
          "text": [
            "Looking in indexes: https://pypi.org/simple, https://us-python.pkg.dev/colab-wheels/public/simple/\n",
            "Collecting optuna\n",
            "  Downloading optuna-3.1.0-py3-none-any.whl (365 kB)\n",
            "\u001b[2K     \u001b[90m━━━━━━━━━━━━━━━━━━━━━━━━━━━━━━━━━━━━━━━\u001b[0m \u001b[32m365.3/365.3 KB\u001b[0m \u001b[31m8.1 MB/s\u001b[0m eta \u001b[36m0:00:00\u001b[0m\n",
            "\u001b[?25hCollecting alembic>=1.5.0\n",
            "  Downloading alembic-1.10.2-py3-none-any.whl (212 kB)\n",
            "\u001b[2K     \u001b[90m━━━━━━━━━━━━━━━━━━━━━━━━━━━━━━━━━━━━━━\u001b[0m \u001b[32m212.2/212.2 KB\u001b[0m \u001b[31m25.4 MB/s\u001b[0m eta \u001b[36m0:00:00\u001b[0m\n",
            "\u001b[?25hRequirement already satisfied: packaging>=20.0 in /usr/local/lib/python3.9/dist-packages (from optuna) (23.0)\n",
            "Requirement already satisfied: sqlalchemy>=1.3.0 in /usr/local/lib/python3.9/dist-packages (from optuna) (1.4.46)\n",
            "Requirement already satisfied: PyYAML in /usr/local/lib/python3.9/dist-packages (from optuna) (6.0)\n",
            "Collecting colorlog\n",
            "  Downloading colorlog-6.7.0-py2.py3-none-any.whl (11 kB)\n",
            "Requirement already satisfied: numpy in /usr/local/lib/python3.9/dist-packages (from optuna) (1.22.4)\n",
            "Collecting cmaes>=0.9.1\n",
            "  Downloading cmaes-0.9.1-py3-none-any.whl (21 kB)\n",
            "Requirement already satisfied: tqdm in /usr/local/lib/python3.9/dist-packages (from optuna) (4.65.0)\n",
            "Requirement already satisfied: typing-extensions>=4 in /usr/local/lib/python3.9/dist-packages (from alembic>=1.5.0->optuna) (4.5.0)\n",
            "Collecting Mako\n",
            "  Downloading Mako-1.2.4-py3-none-any.whl (78 kB)\n",
            "\u001b[2K     \u001b[90m━━━━━━━━━━━━━━━━━━━━━━━━━━━━━━━━━━━━━━━━\u001b[0m \u001b[32m78.7/78.7 KB\u001b[0m \u001b[31m10.4 MB/s\u001b[0m eta \u001b[36m0:00:00\u001b[0m\n",
            "\u001b[?25hRequirement already satisfied: greenlet!=0.4.17 in /usr/local/lib/python3.9/dist-packages (from sqlalchemy>=1.3.0->optuna) (2.0.2)\n",
            "Requirement already satisfied: MarkupSafe>=0.9.2 in /usr/local/lib/python3.9/dist-packages (from Mako->alembic>=1.5.0->optuna) (2.1.2)\n",
            "Installing collected packages: Mako, colorlog, cmaes, alembic, optuna\n",
            "Successfully installed Mako-1.2.4 alembic-1.10.2 cmaes-0.9.1 colorlog-6.7.0 optuna-3.1.0\n"
          ]
        }
      ]
    },
    {
      "cell_type": "code",
      "metadata": {
        "id": "QNaCP8fJRv_T"
      },
      "source": [
        "# training and testing function used by Optuna\n",
        "from sklearn.svm import LinearSVC\n",
        "from sklearn.svm import SVC\n",
        "from sklearn.model_selection import GridSearchCV\n",
        "import optuna\n",
        "\n",
        "def SVM_training_n_testing(trial):\n",
        "    # hyperparameters to be optimized by Optuna in training SVM     \n",
        "    cfg = {'degree' : trial.suggest_int('degree', 0, 10), 'C' : trial.suggest_uniform('C', 0.1, 100)}\n",
        "\n",
        "    print(\"start to perform training\")\n",
        "    start = timer()\n",
        "\n",
        "    ## poly\n",
        "    model = SVC(kernel='poly', probability=True, degree=cfg['degree'], C=cfg['C'])\n",
        "    model.fit(training_matrix, label_matrix)\n",
        "\n",
        "    end = timer()\n",
        "    print(\"training is done and totally {}-seconds are consumed\".format(end-start))\n",
        "\n",
        "    # step 3: accuracy estimation by classifying all the images in the validation folder\n",
        "\n",
        "    # for positive validation data\n",
        "    TP_num = 0\n",
        "    for i in range(0,validation_heavy_makeup_img_file_num): \n",
        "      img = cv2.imread(validation_heavy_makeup_img_files[i])\n",
        "      img_cropped = img_crop(img, resize_img_w, resize_img_h, crop_img_w, crop_img_h)\n",
        "      image = cv2.cvtColor(img_cropped, cv2.COLOR_BGR2GRAY)\n",
        "      hog_vec = feature.hog(image)\n",
        "      hog_vec = hog_vec.reshape(1,-1)\n",
        "      labels = model.predict(hog_vec)\n",
        "      #print(labels)\n",
        "\n",
        "      if int(labels[0]) == 1:\n",
        "          #print(\"this is TP\")\n",
        "          TP_num = TP_num + 1\n",
        "    print(\"TP_num={}\".format(TP_num))\n",
        "\n",
        "    # for negative validation data\n",
        "    TN_num = 0\n",
        "    for i in range(0,validation_no_heavy_makeup_img_file_num): #\n",
        "      img = cv2.imread(validation_no_heavy_makeup_img_files[i])\n",
        "      img_cropped = img_crop(img, resize_img_w, resize_img_h, crop_img_w, crop_img_h)  \n",
        "      image = cv2.cvtColor(img_cropped, cv2.COLOR_BGR2GRAY)\n",
        "      hog_vec = feature.hog(image)\n",
        "\n",
        "      #print(hog_vec.shape)\n",
        "      hog_vec = hog_vec.reshape(1,-1)\n",
        "      # perform classification\n",
        "      labels = model.predict(hog_vec)\n",
        "      #print(labels)\n",
        "      if int(labels[0]) == 0:\n",
        "        #print(\"this is TP\")\n",
        "        TN_num = TN_num + 1\n",
        "\n",
        "    print(\"TN_num={}\".format(TN_num))\n",
        "    accuracy = (TP_num+TN_num)/(validation_heavy_makeup_img_file_num + validation_no_heavy_makeup_img_file_num)\n",
        "    print(\"accuracy={}\".format(accuracy))\n",
        "\n",
        "    return accuracy"
      ],
      "execution_count": null,
      "outputs": []
    },
    {
      "cell_type": "code",
      "metadata": {
        "id": "lDar8VxC8G2w",
        "colab": {
          "base_uri": "https://localhost:8080/"
        },
        "outputId": "9427c9c8-c7f9-4201-a305-6b33d75d4c1d"
      },
      "source": [
        "# step 2: performing (SVM) classifier training and testing using sklearn\n",
        "\n",
        "sampler = optuna.samplers.TPESampler()      \n",
        "study = optuna.create_study(sampler=sampler, direction='minimize')\n",
        "study.optimize(func=SVM_training_n_testing, n_trials=10)"
      ],
      "execution_count": null,
      "outputs": [
        {
          "output_type": "stream",
          "name": "stderr",
          "text": [
            "\u001b[32m[I 2023-03-18 17:10:56,137]\u001b[0m A new study created in memory with name: no-name-e48f5896-87c0-446f-b634-3ea2c723c438\u001b[0m\n",
            "<ipython-input-7-208d37ff6e8b>:9: FutureWarning: suggest_uniform has been deprecated in v3.0.0. This feature will be removed in v6.0.0. See https://github.com/optuna/optuna/releases/tag/v3.0.0. Use :func:`~optuna.trial.Trial.suggest_float` instead.\n",
            "  cfg = {'degree' : trial.suggest_int('degree', 0, 10), 'C' : trial.suggest_uniform('C', 0.1, 100)}\n"
          ]
        },
        {
          "output_type": "stream",
          "name": "stdout",
          "text": [
            "start to perform training\n",
            "training is done and totally 40.90421566399999-seconds are consumed\n",
            "TP_num=29\n"
          ]
        },
        {
          "output_type": "stream",
          "name": "stderr",
          "text": [
            "\u001b[32m[I 2023-03-18 17:11:58,356]\u001b[0m Trial 0 finished with value: 0.775 and parameters: {'degree': 10, 'C': 17.68905108531756}. Best is trial 0 with value: 0.775.\u001b[0m\n"
          ]
        },
        {
          "output_type": "stream",
          "name": "stdout",
          "text": [
            "TN_num=33\n",
            "accuracy=0.775\n",
            "start to perform training\n"
          ]
        },
        {
          "output_type": "stream",
          "name": "stderr",
          "text": [
            "<ipython-input-7-208d37ff6e8b>:9: FutureWarning: suggest_uniform has been deprecated in v3.0.0. This feature will be removed in v6.0.0. See https://github.com/optuna/optuna/releases/tag/v3.0.0. Use :func:`~optuna.trial.Trial.suggest_float` instead.\n",
            "  cfg = {'degree' : trial.suggest_int('degree', 0, 10), 'C' : trial.suggest_uniform('C', 0.1, 100)}\n"
          ]
        },
        {
          "output_type": "stream",
          "name": "stdout",
          "text": [
            "training is done and totally 32.68947874000003-seconds are consumed\n",
            "TP_num=30\n"
          ]
        },
        {
          "output_type": "stream",
          "name": "stderr",
          "text": [
            "\u001b[32m[I 2023-03-18 17:12:35,140]\u001b[0m Trial 1 finished with value: 0.7875 and parameters: {'degree': 9, 'C': 68.0016594307171}. Best is trial 0 with value: 0.775.\u001b[0m\n"
          ]
        },
        {
          "output_type": "stream",
          "name": "stdout",
          "text": [
            "TN_num=33\n",
            "accuracy=0.7875\n",
            "start to perform training\n"
          ]
        },
        {
          "output_type": "stream",
          "name": "stderr",
          "text": [
            "<ipython-input-7-208d37ff6e8b>:9: FutureWarning: suggest_uniform has been deprecated in v3.0.0. This feature will be removed in v6.0.0. See https://github.com/optuna/optuna/releases/tag/v3.0.0. Use :func:`~optuna.trial.Trial.suggest_float` instead.\n",
            "  cfg = {'degree' : trial.suggest_int('degree', 0, 10), 'C' : trial.suggest_uniform('C', 0.1, 100)}\n"
          ]
        },
        {
          "output_type": "stream",
          "name": "stdout",
          "text": [
            "training is done and totally 31.431515131000083-seconds are consumed\n",
            "TP_num=30\n"
          ]
        },
        {
          "output_type": "stream",
          "name": "stderr",
          "text": [
            "\u001b[32m[I 2023-03-18 17:13:12,541]\u001b[0m Trial 2 finished with value: 0.7875 and parameters: {'degree': 9, 'C': 80.57844641941024}. Best is trial 0 with value: 0.775.\u001b[0m\n"
          ]
        },
        {
          "output_type": "stream",
          "name": "stdout",
          "text": [
            "TN_num=33\n",
            "accuracy=0.7875\n",
            "start to perform training\n"
          ]
        },
        {
          "output_type": "stream",
          "name": "stderr",
          "text": [
            "<ipython-input-7-208d37ff6e8b>:9: FutureWarning: suggest_uniform has been deprecated in v3.0.0. This feature will be removed in v6.0.0. See https://github.com/optuna/optuna/releases/tag/v3.0.0. Use :func:`~optuna.trial.Trial.suggest_float` instead.\n",
            "  cfg = {'degree' : trial.suggest_int('degree', 0, 10), 'C' : trial.suggest_uniform('C', 0.1, 100)}\n"
          ]
        },
        {
          "output_type": "stream",
          "name": "stdout",
          "text": [
            "training is done and totally 30.61719539799992-seconds are consumed\n",
            "TP_num=34\n"
          ]
        },
        {
          "output_type": "stream",
          "name": "stderr",
          "text": [
            "\u001b[32m[I 2023-03-18 17:13:47,723]\u001b[0m Trial 3 finished with value: 0.8 and parameters: {'degree': 4, 'C': 8.842956890930266}. Best is trial 0 with value: 0.775.\u001b[0m\n"
          ]
        },
        {
          "output_type": "stream",
          "name": "stdout",
          "text": [
            "TN_num=30\n",
            "accuracy=0.8\n",
            "start to perform training\n"
          ]
        },
        {
          "output_type": "stream",
          "name": "stderr",
          "text": [
            "<ipython-input-7-208d37ff6e8b>:9: FutureWarning: suggest_uniform has been deprecated in v3.0.0. This feature will be removed in v6.0.0. See https://github.com/optuna/optuna/releases/tag/v3.0.0. Use :func:`~optuna.trial.Trial.suggest_float` instead.\n",
            "  cfg = {'degree' : trial.suggest_int('degree', 0, 10), 'C' : trial.suggest_uniform('C', 0.1, 100)}\n"
          ]
        },
        {
          "output_type": "stream",
          "name": "stdout",
          "text": [
            "training is done and totally 30.731714364999903-seconds are consumed\n",
            "TP_num=31\n"
          ]
        },
        {
          "output_type": "stream",
          "name": "stderr",
          "text": [
            "\u001b[32m[I 2023-03-18 17:14:23,603]\u001b[0m Trial 4 finished with value: 0.7875 and parameters: {'degree': 6, 'C': 53.97376674727949}. Best is trial 0 with value: 0.775.\u001b[0m\n"
          ]
        },
        {
          "output_type": "stream",
          "name": "stdout",
          "text": [
            "TN_num=32\n",
            "accuracy=0.7875\n",
            "start to perform training\n"
          ]
        },
        {
          "output_type": "stream",
          "name": "stderr",
          "text": [
            "<ipython-input-7-208d37ff6e8b>:9: FutureWarning: suggest_uniform has been deprecated in v3.0.0. This feature will be removed in v6.0.0. See https://github.com/optuna/optuna/releases/tag/v3.0.0. Use :func:`~optuna.trial.Trial.suggest_float` instead.\n",
            "  cfg = {'degree' : trial.suggest_int('degree', 0, 10), 'C' : trial.suggest_uniform('C', 0.1, 100)}\n"
          ]
        },
        {
          "output_type": "stream",
          "name": "stdout",
          "text": [
            "training is done and totally 29.427839403000007-seconds are consumed\n",
            "TP_num=30\n"
          ]
        },
        {
          "output_type": "stream",
          "name": "stderr",
          "text": [
            "\u001b[32m[I 2023-03-18 17:14:57,604]\u001b[0m Trial 5 finished with value: 0.775 and parameters: {'degree': 7, 'C': 44.56338938072087}. Best is trial 0 with value: 0.775.\u001b[0m\n"
          ]
        },
        {
          "output_type": "stream",
          "name": "stdout",
          "text": [
            "TN_num=32\n",
            "accuracy=0.775\n",
            "start to perform training\n"
          ]
        },
        {
          "output_type": "stream",
          "name": "stderr",
          "text": [
            "<ipython-input-7-208d37ff6e8b>:9: FutureWarning: suggest_uniform has been deprecated in v3.0.0. This feature will be removed in v6.0.0. See https://github.com/optuna/optuna/releases/tag/v3.0.0. Use :func:`~optuna.trial.Trial.suggest_float` instead.\n",
            "  cfg = {'degree' : trial.suggest_int('degree', 0, 10), 'C' : trial.suggest_uniform('C', 0.1, 100)}\n"
          ]
        },
        {
          "output_type": "stream",
          "name": "stdout",
          "text": [
            "training is done and totally 29.65461019999998-seconds are consumed\n",
            "TP_num=35\n"
          ]
        },
        {
          "output_type": "stream",
          "name": "stderr",
          "text": [
            "\u001b[32m[I 2023-03-18 17:15:32,320]\u001b[0m Trial 6 finished with value: 0.825 and parameters: {'degree': 1, 'C': 39.09353058568539}. Best is trial 0 with value: 0.775.\u001b[0m\n"
          ]
        },
        {
          "output_type": "stream",
          "name": "stdout",
          "text": [
            "TN_num=31\n",
            "accuracy=0.825\n",
            "start to perform training\n"
          ]
        },
        {
          "output_type": "stream",
          "name": "stderr",
          "text": [
            "<ipython-input-7-208d37ff6e8b>:9: FutureWarning: suggest_uniform has been deprecated in v3.0.0. This feature will be removed in v6.0.0. See https://github.com/optuna/optuna/releases/tag/v3.0.0. Use :func:`~optuna.trial.Trial.suggest_float` instead.\n",
            "  cfg = {'degree' : trial.suggest_int('degree', 0, 10), 'C' : trial.suggest_uniform('C', 0.1, 100)}\n"
          ]
        },
        {
          "output_type": "stream",
          "name": "stdout",
          "text": [
            "training is done and totally 30.29180596399999-seconds are consumed\n",
            "TP_num=30\n"
          ]
        },
        {
          "output_type": "stream",
          "name": "stderr",
          "text": [
            "\u001b[32m[I 2023-03-18 17:16:06,703]\u001b[0m Trial 7 finished with value: 0.775 and parameters: {'degree': 7, 'C': 52.81130978798075}. Best is trial 0 with value: 0.775.\u001b[0m\n"
          ]
        },
        {
          "output_type": "stream",
          "name": "stdout",
          "text": [
            "TN_num=32\n",
            "accuracy=0.775\n",
            "start to perform training\n"
          ]
        },
        {
          "output_type": "stream",
          "name": "stderr",
          "text": [
            "<ipython-input-7-208d37ff6e8b>:9: FutureWarning: suggest_uniform has been deprecated in v3.0.0. This feature will be removed in v6.0.0. See https://github.com/optuna/optuna/releases/tag/v3.0.0. Use :func:`~optuna.trial.Trial.suggest_float` instead.\n",
            "  cfg = {'degree' : trial.suggest_int('degree', 0, 10), 'C' : trial.suggest_uniform('C', 0.1, 100)}\n"
          ]
        },
        {
          "output_type": "stream",
          "name": "stdout",
          "text": [
            "training is done and totally 30.868404837999947-seconds are consumed\n",
            "TP_num=34\n"
          ]
        },
        {
          "output_type": "stream",
          "name": "stderr",
          "text": [
            "\u001b[32m[I 2023-03-18 17:16:41,829]\u001b[0m Trial 8 finished with value: 0.8 and parameters: {'degree': 4, 'C': 36.86130879540926}. Best is trial 0 with value: 0.775.\u001b[0m\n"
          ]
        },
        {
          "output_type": "stream",
          "name": "stdout",
          "text": [
            "TN_num=30\n",
            "accuracy=0.8\n",
            "start to perform training\n"
          ]
        },
        {
          "output_type": "stream",
          "name": "stderr",
          "text": [
            "<ipython-input-7-208d37ff6e8b>:9: FutureWarning: suggest_uniform has been deprecated in v3.0.0. This feature will be removed in v6.0.0. See https://github.com/optuna/optuna/releases/tag/v3.0.0. Use :func:`~optuna.trial.Trial.suggest_float` instead.\n",
            "  cfg = {'degree' : trial.suggest_int('degree', 0, 10), 'C' : trial.suggest_uniform('C', 0.1, 100)}\n"
          ]
        },
        {
          "output_type": "stream",
          "name": "stdout",
          "text": [
            "training is done and totally 28.92659469299997-seconds are consumed\n",
            "TP_num=35\n"
          ]
        },
        {
          "output_type": "stream",
          "name": "stderr",
          "text": [
            "\u001b[32m[I 2023-03-18 17:17:14,636]\u001b[0m Trial 9 finished with value: 0.825 and parameters: {'degree': 1, 'C': 78.56738108008125}. Best is trial 0 with value: 0.775.\u001b[0m\n"
          ]
        },
        {
          "output_type": "stream",
          "name": "stdout",
          "text": [
            "TN_num=31\n",
            "accuracy=0.825\n"
          ]
        }
      ]
    },
    {
      "cell_type": "markdown",
      "source": [
        "### 修改Optuna最佳化人臉分類的程式，使其最小化classfication accuracy\n",
        "- 修改 optuna.create_study(sampler=sampler, **direction='minimize'**) 中的direction從'maximize'變成'minimize'\n",
        "- Remark: 最小化classification accuracy並不代表不在意準確率，在實際應用中，可以採用其他的指標來評估，如precision、recall、F1-score等指標"
      ],
      "metadata": {
        "id": "Ue267PGAmCDm"
      }
    }
  ]
}